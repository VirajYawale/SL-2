{
 "cells": [
  {
   "cell_type": "code",
   "execution_count": 1,
   "metadata": {},
   "outputs": [
    {
     "name": "stdout",
     "output_type": "stream",
     "text": [
      "Requirement already satisfied: requests in /opt/anaconda3/lib/python3.12/site-packages (2.32.3)\n",
      "Requirement already satisfied: pandas in /opt/anaconda3/lib/python3.12/site-packages (2.2.2)\n",
      "Requirement already satisfied: charset-normalizer<4,>=2 in /opt/anaconda3/lib/python3.12/site-packages (from requests) (3.3.2)\n",
      "Requirement already satisfied: idna<4,>=2.5 in /opt/anaconda3/lib/python3.12/site-packages (from requests) (3.7)\n",
      "Requirement already satisfied: urllib3<3,>=1.21.1 in /opt/anaconda3/lib/python3.12/site-packages (from requests) (2.2.3)\n",
      "Requirement already satisfied: certifi>=2017.4.17 in /opt/anaconda3/lib/python3.12/site-packages (from requests) (2024.8.30)\n",
      "Requirement already satisfied: numpy>=1.26.0 in /opt/anaconda3/lib/python3.12/site-packages (from pandas) (1.26.4)\n",
      "Requirement already satisfied: python-dateutil>=2.8.2 in /opt/anaconda3/lib/python3.12/site-packages (from pandas) (2.9.0.post0)\n",
      "Requirement already satisfied: pytz>=2020.1 in /opt/anaconda3/lib/python3.12/site-packages (from pandas) (2024.1)\n",
      "Requirement already satisfied: tzdata>=2022.7 in /opt/anaconda3/lib/python3.12/site-packages (from pandas) (2023.3)\n",
      "Requirement already satisfied: six>=1.5 in /opt/anaconda3/lib/python3.12/site-packages (from python-dateutil>=2.8.2->pandas) (1.16.0)\n",
      "Note: you may need to restart the kernel to use updated packages.\n"
     ]
    }
   ],
   "source": [
    "pip install requests pandas\n"
   ]
  },
  {
   "cell_type": "code",
   "execution_count": null,
   "metadata": {},
   "outputs": [],
   "source": [
    "import requests\n",
    "import pandas as pd\n",
    "import time\n",
    "import os\n",
    "\n",
    "# RapidAPI credentials\n",
    "RAPIDAPI_KEY = \"8d4c87454fmsh34632789d84864ap1c1b12jsn9b500e1e3ebb\"  # Replace with your API key\n",
    "RAPIDAPI_HOST = \"google-news13.p.rapidapi.com\"\n",
    "\n",
    "# API Endpoint\n",
    "URL = \"https://google-news13.p.rapidapi.com\"\n",
    "\n",
    "# Query Parameters (Modify as needed)\n",
    "PARAMS = {\n",
    "    \"country\": \"us\",  # Change for other countries (e.g., 'in', 'gb')\n",
    "    \"category\": \"technology\",  # News category (e.g., 'sports', 'health')\n",
    "}\n",
    "\n",
    "# File to store news dataset\n",
    "CSV_FILE = \"real_time_news.csv\"\n",
    "\n",
    "def fetch_news():\n",
    "    \"\"\"Fetch latest news articles from the API.\"\"\"\n",
    "    headers = {\n",
    "        \"X-RapidAPI-Key\": RAPIDAPI_KEY,\n",
    "        \"X-RapidAPI-Host\": RAPIDAPI_HOST\n",
    "    }\n",
    "    \n",
    "    response = requests.get(URL, headers=headers, params=PARAMS)\n",
    "    \n",
    "    if response.status_code == 200:\n",
    "        return response.json().get(\"articles\", [])\n",
    "    else:\n",
    "        print(f\"Error fetching news: {response.status_code}\")\n",
    "        return []\n",
    "\n",
    "def update_dataset():\n",
    "    \"\"\"Fetch latest news and update the dataset.\"\"\"\n",
    "    print(\"Fetching latest news...\")\n",
    "    articles = fetch_news()\n",
    "\n",
    "    if not articles:\n",
    "        print(\"No new articles found.\")\n",
    "        return\n",
    "    \n",
    "    # Convert API response to DataFrame\n",
    "    df_new = pd.DataFrame(articles)[[\"title\", \"description\", \"url\", \"publishedAt\", \"source\"]]\n",
    "    df_new[\"source\"] = df_new[\"source\"].apply(lambda x: x[\"name\"])  # Extract source name\n",
    "    \n",
    "    # Check if CSV file exists\n",
    "    if os.path.exists(CSV_FILE):\n",
    "        df_existing = pd.read_csv(CSV_FILE)\n",
    "        \n",
    "        # Avoid duplicates by removing already saved articles\n",
    "        df_new = df_new[~df_new[\"title\"].isin(df_existing[\"title\"])]\n",
    "\n",
    "        if df_new.empty:\n",
    "            print(\"No new updates. Dataset is up to date.\")\n",
    "            return\n",
    "        \n",
    "        # Append new articles to existing dataset\n",
    "        df_new.to_csv(CSV_FILE, mode='a', header=False, index=False)\n",
    "    else:\n",
    "        # Create new dataset file\n",
    "        df_new.to_csv(CSV_FILE, index=False)\n",
    "\n",
    "    print(f\"Dataset updated! {len(df_new)} new articles added.\")\n",
    "\n",
    "# Run script continuously every 60 seconds\n",
    "if __name__ == \"__main__\":\n",
    "    while True:\n",
    "        update_dataset()\n",
    "        time.sleep(60)  # Wait 60 seconds before fetching again\n"
   ]
  }
 ],
 "metadata": {
  "kernelspec": {
   "display_name": "base",
   "language": "python",
   "name": "python3"
  },
  "language_info": {
   "codemirror_mode": {
    "name": "ipython",
    "version": 3
   },
   "file_extension": ".py",
   "mimetype": "text/x-python",
   "name": "python",
   "nbconvert_exporter": "python",
   "pygments_lexer": "ipython3",
   "version": "3.12.7"
  }
 },
 "nbformat": 4,
 "nbformat_minor": 2
}
